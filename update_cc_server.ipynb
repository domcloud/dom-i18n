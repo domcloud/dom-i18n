{
 "cells": [
  {
   "cell_type": "code",
   "execution_count": 1,
   "metadata": {},
   "outputs": [
    {
     "name": "stdout",
     "output_type": "stream",
     "text": [
      "Collecting geopy\n",
      "  Downloading geopy-2.4.1-py3-none-any.whl.metadata (6.8 kB)\n",
      "Requirement already satisfied: requests in /home/willnode/miniconda3/envs/ml/lib/python3.9/site-packages (2.31.0)\n",
      "Collecting geographiclib<3,>=1.52 (from geopy)\n",
      "  Downloading geographiclib-2.0-py3-none-any.whl.metadata (1.4 kB)\n",
      "Requirement already satisfied: charset-normalizer<4,>=2 in /home/willnode/miniconda3/envs/ml/lib/python3.9/site-packages (from requests) (2.0.4)\n",
      "Requirement already satisfied: idna<4,>=2.5 in /home/willnode/miniconda3/envs/ml/lib/python3.9/site-packages (from requests) (3.4)\n",
      "Requirement already satisfied: urllib3<3,>=1.21.1 in /home/willnode/miniconda3/envs/ml/lib/python3.9/site-packages (from requests) (2.1.0)\n",
      "Requirement already satisfied: certifi>=2017.4.17 in /home/willnode/miniconda3/envs/ml/lib/python3.9/site-packages (from requests) (2024.6.2)\n",
      "Downloading geopy-2.4.1-py3-none-any.whl (125 kB)\n",
      "\u001b[2K   \u001b[90m━━━━━━━━━━━━━━━━━━━━━━━━━━━━━━━━━━━━━━━━\u001b[0m \u001b[32m125.4/125.4 kB\u001b[0m \u001b[31m1.9 MB/s\u001b[0m eta \u001b[36m0:00:00\u001b[0m \u001b[36m0:00:01\u001b[0m\n",
      "\u001b[?25hDownloading geographiclib-2.0-py3-none-any.whl (40 kB)\n",
      "\u001b[2K   \u001b[90m━━━━━━━━━━━━━━━━━━━━━━━━━━━━━━━━━━━━━━━━\u001b[0m \u001b[32m40.3/40.3 kB\u001b[0m \u001b[31m3.4 MB/s\u001b[0m eta \u001b[36m0:00:00\u001b[0m\n",
      "\u001b[?25hInstalling collected packages: geographiclib, geopy\n",
      "Successfully installed geographiclib-2.0 geopy-2.4.1\n"
     ]
    }
   ],
   "source": [
    "!pip install geopy requests"
   ]
  },
  {
   "cell_type": "code",
   "execution_count": 2,
   "metadata": {},
   "outputs": [],
   "source": [
    "import requests\n",
    "from geopy.distance import great_circle"
   ]
  },
  {
   "cell_type": "code",
   "execution_count": 3,
   "metadata": {},
   "outputs": [
    {
     "data": {
      "text/plain": [
       "({'id': '1',\n",
       "  'enabled': True,\n",
       "  'code3l': 'AFG',\n",
       "  'code2l': 'AF',\n",
       "  'name': 'Afghanistan',\n",
       "  'name_official': 'Islamic Republic of Afghanistan',\n",
       "  'center': {'latitude': '33.98299275',\n",
       "   'longitude': '66.39159363',\n",
       "   'zoom': '6'},\n",
       "  'names': {'ar': {'name': 'أفغانستان',\n",
       "    'name_official': 'جمهورية أفغانستان الإسلامية '},\n",
       "   'es': {'name': 'Afganistán',\n",
       "    'name_official': 'la República Islámica del Afganistán'},\n",
       "   'fr': {'name': 'Afghanistan',\n",
       "    'name_official': \"la République islamique d'Afghanistan\"},\n",
       "   'it': {'name': 'Afghanistan',\n",
       "    'name_official': 'Repubblica Islamica di Afghanistan  '},\n",
       "   'ru': {'name': 'Афганистан',\n",
       "    'name_official': 'Исламская Республика Афганистан'},\n",
       "   'zh': {'name': '阿富汗', 'name_official': '阿富汗伊斯兰共和国'}}},\n",
       " 250)"
      ]
     },
     "execution_count": 3,
     "metadata": {},
     "output_type": "execute_result"
    }
   ],
   "source": [
    "url = \"https://raw.githubusercontent.com/cristiroma/countries/main/data/countries.json\"\n",
    "response = requests.get(url)\n",
    "response.raise_for_status()\n",
    "geodata = response.json()\n",
    "geodata[0], len(geodata)"
   ]
  },
  {
   "cell_type": "code",
   "execution_count": 4,
   "metadata": {},
   "outputs": [
    {
     "data": {
      "text/plain": [
       "({'name': 'Mexico',\n",
       "  'native': 'México',\n",
       "  'phone': [52],\n",
       "  'continent': 'NA',\n",
       "  'capital': 'Mexico City',\n",
       "  'currency': ['MXN'],\n",
       "  'languages': ['es']},\n",
       " 250)"
      ]
     },
     "execution_count": 4,
     "metadata": {},
     "output_type": "execute_result"
    }
   ],
   "source": [
    "url = \"https://github.com/annexare/Countries/raw/main/dist/countries.min.json\"\n",
    "response = requests.get(url)\n",
    "response.raise_for_status()\n",
    "langdata = response.json()\n",
    "langdata['MX'], len(geodata)"
   ]
  },
  {
   "cell_type": "code",
   "execution_count": 5,
   "metadata": {},
   "outputs": [],
   "source": [
    "data = []\n",
    "for geo in geodata:\n",
    "    if not geo['code2l'] in langdata:\n",
    "        continue\n",
    "    lang = langdata[geo['code2l']]\n",
    "    row = {\n",
    "        \"code\": geo['code2l'],\n",
    "        \"name\": lang['name'],\n",
    "        \"lang\": lang['languages'][0] if len(lang['languages']) > 0 else 'en',\n",
    "        \"currency\": lang['currency'][0].lower() if len(lang['currency']) > 0 else 'usd',\n",
    "        \"tel\": lang['phone'][0],\n",
    "        \"lon\": geo['center']['longitude'],\n",
    "        \"lat\": geo['center']['latitude'],\n",
    "    }\n",
    "    data.append(row)"
   ]
  },
  {
   "cell_type": "code",
   "execution_count": 6,
   "metadata": {},
   "outputs": [
    {
     "data": {
      "text/plain": [
       "{'code': 'AF',\n",
       " 'name': 'Afghanistan',\n",
       " 'lang': 'ps',\n",
       " 'currency': 'afn',\n",
       " 'tel': 93,\n",
       " 'lon': '66.39159363',\n",
       " 'lat': '33.98299275'}"
      ]
     },
     "execution_count": 6,
     "metadata": {},
     "output_type": "execute_result"
    }
   ],
   "source": [
    "data[0]"
   ]
  },
  {
   "cell_type": "code",
   "execution_count": 7,
   "metadata": {},
   "outputs": [],
   "source": [
    "server_locations = {\n",
    "    'sga.domcloud.co': (1.3521, 103.8198),  # Singapore\n",
    "    'nyc.domcloud.co': (40.7128, -74.0060), # New York\n",
    "    'ams.domcloud.co': (52.3676, 4.9041),   # Amsterdam\n",
    "    'tyo.domcloud.co': (35.6895, 139.6917), # Tokyo\n",
    "    'blr.domcloud.co': (12.9716, 77.5946),  # Bangalore\n",
    "    'sao.domcloud.co': (-23.5505, -46.6333) # Sao Paulo\n",
    "}\n",
    "\n",
    "currencies = ['usd', 'idr']\n",
    "\n",
    "languages = ['ar', 'de', 'en', 'id', 'fr', 'hi', 'es', 'it', 'ja', 'ko', 'nl', 'pt', 'ru', 'zh']\n",
    "\n",
    "# Function to find the nearest server for a given country\n",
    "def find_nearest_server(country_coords):\n",
    "    min_distance = float('inf')\n",
    "    nearest_server = None\n",
    "    for server, server_coords in server_locations.items():\n",
    "        distance = great_circle(country_coords, server_coords).kilometers\n",
    "        if distance < min_distance:\n",
    "            min_distance = distance\n",
    "            nearest_server = server\n",
    "    return nearest_server\n",
    "\n",
    "newdata = data.copy()\n",
    "for row in newdata:\n",
    "    row['currency'] = row['currency'] if row['currency'] in currencies else 'usd'\n",
    "    row['lang'] = row['lang'] if row['lang'] in languages else 'en'\n",
    "    row['server'] = find_nearest_server(( row['lat'],  row['lon']))\n",
    "    del(row['lon'])\n",
    "    del(row['lat'])\n",
    "\n"
   ]
  },
  {
   "cell_type": "code",
   "execution_count": 8,
   "metadata": {},
   "outputs": [
    {
     "data": {
      "text/plain": [
       "{'code': 'CF',\n",
       " 'name': 'Central African Republic',\n",
       " 'lang': 'fr',\n",
       " 'currency': 'usd',\n",
       " 'tel': 236,\n",
       " 'server': 'ams.domcloud.co'}"
      ]
     },
     "execution_count": 8,
     "metadata": {},
     "output_type": "execute_result"
    }
   ],
   "source": [
    "newdata[42]"
   ]
  }
 ],
 "metadata": {
  "kernelspec": {
   "display_name": "Python 3",
   "language": "python",
   "name": "python3"
  },
  "language_info": {
   "codemirror_mode": {
    "name": "ipython",
    "version": 3
   },
   "file_extension": ".py",
   "mimetype": "text/x-python",
   "name": "python",
   "nbconvert_exporter": "python",
   "pygments_lexer": "ipython3",
   "version": "3.9.19"
  }
 },
 "nbformat": 4,
 "nbformat_minor": 2
}
